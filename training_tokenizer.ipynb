{
  "nbformat": 4,
  "nbformat_minor": 0,
  "metadata": {
    "colab": {
      "provenance": []
    },
    "kernelspec": {
      "name": "python3",
      "display_name": "Python 3"
    },
    "language_info": {
      "name": "python"
    },
    "widgets": {
      "application/vnd.jupyter.widget-state+json": {
        "9a245bfd7c4a4208a5a00b75bef55d6f": {
          "model_module": "@jupyter-widgets/controls",
          "model_name": "HBoxModel",
          "model_module_version": "1.5.0",
          "state": {
            "_dom_classes": [],
            "_model_module": "@jupyter-widgets/controls",
            "_model_module_version": "1.5.0",
            "_model_name": "HBoxModel",
            "_view_count": null,
            "_view_module": "@jupyter-widgets/controls",
            "_view_module_version": "1.5.0",
            "_view_name": "HBoxView",
            "box_style": "",
            "children": [
              "IPY_MODEL_4b6e05030619486fae4d002f4685f53e",
              "IPY_MODEL_0aeaddf5ed4a40e8a3a3a0c765e00022",
              "IPY_MODEL_dcb7e635f788437bb7022523807cea94"
            ],
            "layout": "IPY_MODEL_5a4c39af25704407b7b05f729c6dabd8"
          }
        },
        "4b6e05030619486fae4d002f4685f53e": {
          "model_module": "@jupyter-widgets/controls",
          "model_name": "HTMLModel",
          "model_module_version": "1.5.0",
          "state": {
            "_dom_classes": [],
            "_model_module": "@jupyter-widgets/controls",
            "_model_module_version": "1.5.0",
            "_model_name": "HTMLModel",
            "_view_count": null,
            "_view_module": "@jupyter-widgets/controls",
            "_view_module_version": "1.5.0",
            "_view_name": "HTMLView",
            "description": "",
            "description_tooltip": null,
            "layout": "IPY_MODEL_43c328c0dfd64bbb8833da6a637abbe0",
            "placeholder": "​",
            "style": "IPY_MODEL_09fd338619d8467dba8bbb458c1da4e2",
            "value": "Generating train split: "
          }
        },
        "0aeaddf5ed4a40e8a3a3a0c765e00022": {
          "model_module": "@jupyter-widgets/controls",
          "model_name": "FloatProgressModel",
          "model_module_version": "1.5.0",
          "state": {
            "_dom_classes": [],
            "_model_module": "@jupyter-widgets/controls",
            "_model_module_version": "1.5.0",
            "_model_name": "FloatProgressModel",
            "_view_count": null,
            "_view_module": "@jupyter-widgets/controls",
            "_view_module_version": "1.5.0",
            "_view_name": "ProgressView",
            "bar_style": "success",
            "description": "",
            "description_tooltip": null,
            "layout": "IPY_MODEL_9b3e103afaa44c299369d0a75dcf58f6",
            "max": 1,
            "min": 0,
            "orientation": "horizontal",
            "style": "IPY_MODEL_6e3f84bc302848389c1c811e0c9aac9a",
            "value": 1
          }
        },
        "dcb7e635f788437bb7022523807cea94": {
          "model_module": "@jupyter-widgets/controls",
          "model_name": "HTMLModel",
          "model_module_version": "1.5.0",
          "state": {
            "_dom_classes": [],
            "_model_module": "@jupyter-widgets/controls",
            "_model_module_version": "1.5.0",
            "_model_name": "HTMLModel",
            "_view_count": null,
            "_view_module": "@jupyter-widgets/controls",
            "_view_module_version": "1.5.0",
            "_view_name": "HTMLView",
            "description": "",
            "description_tooltip": null,
            "layout": "IPY_MODEL_72565375265c48c4824c0875cf053bc5",
            "placeholder": "​",
            "style": "IPY_MODEL_71828e3edf1e45b683b6a84fea2d5878",
            "value": " 4972/0 [00:00&lt;00:00, 5246.30 examples/s]"
          }
        },
        "5a4c39af25704407b7b05f729c6dabd8": {
          "model_module": "@jupyter-widgets/base",
          "model_name": "LayoutModel",
          "model_module_version": "1.2.0",
          "state": {
            "_model_module": "@jupyter-widgets/base",
            "_model_module_version": "1.2.0",
            "_model_name": "LayoutModel",
            "_view_count": null,
            "_view_module": "@jupyter-widgets/base",
            "_view_module_version": "1.2.0",
            "_view_name": "LayoutView",
            "align_content": null,
            "align_items": null,
            "align_self": null,
            "border": null,
            "bottom": null,
            "display": null,
            "flex": null,
            "flex_flow": null,
            "grid_area": null,
            "grid_auto_columns": null,
            "grid_auto_flow": null,
            "grid_auto_rows": null,
            "grid_column": null,
            "grid_gap": null,
            "grid_row": null,
            "grid_template_areas": null,
            "grid_template_columns": null,
            "grid_template_rows": null,
            "height": null,
            "justify_content": null,
            "justify_items": null,
            "left": null,
            "margin": null,
            "max_height": null,
            "max_width": null,
            "min_height": null,
            "min_width": null,
            "object_fit": null,
            "object_position": null,
            "order": null,
            "overflow": null,
            "overflow_x": null,
            "overflow_y": null,
            "padding": null,
            "right": null,
            "top": null,
            "visibility": null,
            "width": null
          }
        },
        "43c328c0dfd64bbb8833da6a637abbe0": {
          "model_module": "@jupyter-widgets/base",
          "model_name": "LayoutModel",
          "model_module_version": "1.2.0",
          "state": {
            "_model_module": "@jupyter-widgets/base",
            "_model_module_version": "1.2.0",
            "_model_name": "LayoutModel",
            "_view_count": null,
            "_view_module": "@jupyter-widgets/base",
            "_view_module_version": "1.2.0",
            "_view_name": "LayoutView",
            "align_content": null,
            "align_items": null,
            "align_self": null,
            "border": null,
            "bottom": null,
            "display": null,
            "flex": null,
            "flex_flow": null,
            "grid_area": null,
            "grid_auto_columns": null,
            "grid_auto_flow": null,
            "grid_auto_rows": null,
            "grid_column": null,
            "grid_gap": null,
            "grid_row": null,
            "grid_template_areas": null,
            "grid_template_columns": null,
            "grid_template_rows": null,
            "height": null,
            "justify_content": null,
            "justify_items": null,
            "left": null,
            "margin": null,
            "max_height": null,
            "max_width": null,
            "min_height": null,
            "min_width": null,
            "object_fit": null,
            "object_position": null,
            "order": null,
            "overflow": null,
            "overflow_x": null,
            "overflow_y": null,
            "padding": null,
            "right": null,
            "top": null,
            "visibility": null,
            "width": null
          }
        },
        "09fd338619d8467dba8bbb458c1da4e2": {
          "model_module": "@jupyter-widgets/controls",
          "model_name": "DescriptionStyleModel",
          "model_module_version": "1.5.0",
          "state": {
            "_model_module": "@jupyter-widgets/controls",
            "_model_module_version": "1.5.0",
            "_model_name": "DescriptionStyleModel",
            "_view_count": null,
            "_view_module": "@jupyter-widgets/base",
            "_view_module_version": "1.2.0",
            "_view_name": "StyleView",
            "description_width": ""
          }
        },
        "9b3e103afaa44c299369d0a75dcf58f6": {
          "model_module": "@jupyter-widgets/base",
          "model_name": "LayoutModel",
          "model_module_version": "1.2.0",
          "state": {
            "_model_module": "@jupyter-widgets/base",
            "_model_module_version": "1.2.0",
            "_model_name": "LayoutModel",
            "_view_count": null,
            "_view_module": "@jupyter-widgets/base",
            "_view_module_version": "1.2.0",
            "_view_name": "LayoutView",
            "align_content": null,
            "align_items": null,
            "align_self": null,
            "border": null,
            "bottom": null,
            "display": null,
            "flex": null,
            "flex_flow": null,
            "grid_area": null,
            "grid_auto_columns": null,
            "grid_auto_flow": null,
            "grid_auto_rows": null,
            "grid_column": null,
            "grid_gap": null,
            "grid_row": null,
            "grid_template_areas": null,
            "grid_template_columns": null,
            "grid_template_rows": null,
            "height": null,
            "justify_content": null,
            "justify_items": null,
            "left": null,
            "margin": null,
            "max_height": null,
            "max_width": null,
            "min_height": null,
            "min_width": null,
            "object_fit": null,
            "object_position": null,
            "order": null,
            "overflow": null,
            "overflow_x": null,
            "overflow_y": null,
            "padding": null,
            "right": null,
            "top": null,
            "visibility": null,
            "width": "20px"
          }
        },
        "6e3f84bc302848389c1c811e0c9aac9a": {
          "model_module": "@jupyter-widgets/controls",
          "model_name": "ProgressStyleModel",
          "model_module_version": "1.5.0",
          "state": {
            "_model_module": "@jupyter-widgets/controls",
            "_model_module_version": "1.5.0",
            "_model_name": "ProgressStyleModel",
            "_view_count": null,
            "_view_module": "@jupyter-widgets/base",
            "_view_module_version": "1.2.0",
            "_view_name": "StyleView",
            "bar_color": null,
            "description_width": ""
          }
        },
        "72565375265c48c4824c0875cf053bc5": {
          "model_module": "@jupyter-widgets/base",
          "model_name": "LayoutModel",
          "model_module_version": "1.2.0",
          "state": {
            "_model_module": "@jupyter-widgets/base",
            "_model_module_version": "1.2.0",
            "_model_name": "LayoutModel",
            "_view_count": null,
            "_view_module": "@jupyter-widgets/base",
            "_view_module_version": "1.2.0",
            "_view_name": "LayoutView",
            "align_content": null,
            "align_items": null,
            "align_self": null,
            "border": null,
            "bottom": null,
            "display": null,
            "flex": null,
            "flex_flow": null,
            "grid_area": null,
            "grid_auto_columns": null,
            "grid_auto_flow": null,
            "grid_auto_rows": null,
            "grid_column": null,
            "grid_gap": null,
            "grid_row": null,
            "grid_template_areas": null,
            "grid_template_columns": null,
            "grid_template_rows": null,
            "height": null,
            "justify_content": null,
            "justify_items": null,
            "left": null,
            "margin": null,
            "max_height": null,
            "max_width": null,
            "min_height": null,
            "min_width": null,
            "object_fit": null,
            "object_position": null,
            "order": null,
            "overflow": null,
            "overflow_x": null,
            "overflow_y": null,
            "padding": null,
            "right": null,
            "top": null,
            "visibility": null,
            "width": null
          }
        },
        "71828e3edf1e45b683b6a84fea2d5878": {
          "model_module": "@jupyter-widgets/controls",
          "model_name": "DescriptionStyleModel",
          "model_module_version": "1.5.0",
          "state": {
            "_model_module": "@jupyter-widgets/controls",
            "_model_module_version": "1.5.0",
            "_model_name": "DescriptionStyleModel",
            "_view_count": null,
            "_view_module": "@jupyter-widgets/base",
            "_view_module_version": "1.2.0",
            "_view_name": "StyleView",
            "description_width": ""
          }
        }
      }
    }
  },
  "cells": [
    {
      "cell_type": "code",
      "source": [
        "!pip install datasets transformers[sentencepiece]\n",
        "!apt install git-lfs"
      ],
      "metadata": {
        "id": "4H5T74YvTGQS"
      },
      "execution_count": null,
      "outputs": []
    },
    {
      "cell_type": "code",
      "source": [
        "from datasets import load_dataset\n",
        "from transformers import AutoTokenizer\n",
        "from huggingface_hub import notebook_login, Repository\n",
        "from google.colab import drive"
      ],
      "metadata": {
        "id": "qfIvzG7b0u37"
      },
      "execution_count": 5,
      "outputs": []
    },
    {
      "cell_type": "code",
      "source": [
        "# HYPERPARAMS AND GLOBAL VARS\n",
        "vocab_size                     = 30000                             # vocabulary size of the tokenizer\n",
        "base_model                     = \"gpt2\"                            # base model Hugging Face name\n",
        "batch_size                     = 20\n",
        "\n",
        "drive_mounted                  = True\n",
        "drive_mounted_path             = \"/content/gdrive/\"                # only needed if drive_mounted == True\n",
        "train_data_archived            = True                              # set to True if you need to extract the data from archive\n",
        "raw_train_archive              = drive_mounted_path + \"My Drive/UCU/diploma/datasets/dataset_train.zip\"    # only needed if data_archived == True\n",
        "raw_train_json                 = \"./dataset_train.json\"            # path to the train dataset (after extracting it will be in the current working directory)\n",
        "\n",
        "push_to_hub                    = True                              # set to True if you need to commit changes\n",
        "user_email                     = \"orest.andrusyshyn@ucu.edu.ua\"    # only needed if push_to_hub == True\n",
        "user_name                      = \"Orest Andrusyshyn\"               # only needed if push_to_hub == True\n",
        "tokenizer_repo_name            = \"Andrusyshyn/gpt2-coq-tokenizer\"  # only needed if push_to_hub == True\n",
        "tokenizer_output_dir           = \"gpt2-coq-tokenizer_local\"        # local dir to save the tokenizer (only needed if push_to_hub == True)\n",
        "run_name                       = \"vocab_30k\"                       # branch name (only needed if push_to_hub == True)"
      ],
      "metadata": {
        "id": "RCwNJhLe0MdL"
      },
      "execution_count": 6,
      "outputs": []
    },
    {
      "cell_type": "code",
      "source": [
        "# MOUNTING DRIVE\n",
        "if drive_mounted:\n",
        "    drive.mount(drive_mounted_path)"
      ],
      "metadata": {
        "colab": {
          "base_uri": "https://localhost:8080/"
        },
        "id": "8xvHPjbL1K08",
        "outputId": "ca4622f8-6ca5-40bc-e55d-55e969cda75f"
      },
      "execution_count": 7,
      "outputs": [
        {
          "output_type": "stream",
          "name": "stdout",
          "text": [
            "Mounted at /content/gdrive/\n"
          ]
        }
      ]
    },
    {
      "cell_type": "code",
      "source": [
        "# CONFIGURING GIT CREDENTIALS\n",
        "if push_to_hub:\n",
        "    !git config --global user.email \"{user_email}\"\n",
        "    !git config --global user.name \"{user_name}\"\n",
        "\n",
        "# To set Hugging Face token (for writing access) create HF_TOKEN secret in Google Collab or use notebook_login()"
      ],
      "metadata": {
        "id": "FvHd-jgLcUnR"
      },
      "execution_count": 8,
      "outputs": []
    },
    {
      "cell_type": "code",
      "source": [
        "# CONFIGURING GIT DIRECTORIES\n",
        "if push_to_hub:\n",
        "    repo = Repository(tokenizer_output_dir, clone_from=tokenizer_repo_name)\n",
        "    repo.git_checkout(run_name, create_branch_ok=True)"
      ],
      "metadata": {
        "id": "xS3pN5891Yq5"
      },
      "execution_count": null,
      "outputs": []
    },
    {
      "cell_type": "code",
      "source": [
        "# UNPACK DATASET\n",
        "if train_data_archived:\n",
        "    if raw_train_archive.endswith(\".gz\"):\n",
        "        !gzip -dkv \"{raw_train_archive}\"\n",
        "    if raw_train_archive.endswith(\".zip\"):\n",
        "        !unzip \"{raw_train_archive}\""
      ],
      "metadata": {
        "colab": {
          "base_uri": "https://localhost:8080/"
        },
        "id": "aNsuHVa51IjV",
        "outputId": "11a03e7f-d7bf-49d6-f404-72583a6d1d61"
      },
      "execution_count": 10,
      "outputs": [
        {
          "output_type": "stream",
          "name": "stdout",
          "text": [
            "Archive:  /content/gdrive/My Drive/UCU/diploma/datasets/dataset_train.zip\n",
            "  inflating: dataset_train.json      \n"
          ]
        }
      ]
    },
    {
      "cell_type": "code",
      "source": [
        "# LOAD DATASET\n",
        "tokenizer_dataset = load_dataset(\"json\", data_files=raw_train_json, field=\"data\")\n",
        "print(tokenizer_dataset)"
      ],
      "metadata": {
        "colab": {
          "base_uri": "https://localhost:8080/",
          "height": 153,
          "referenced_widgets": [
            "9a245bfd7c4a4208a5a00b75bef55d6f",
            "4b6e05030619486fae4d002f4685f53e",
            "0aeaddf5ed4a40e8a3a3a0c765e00022",
            "dcb7e635f788437bb7022523807cea94",
            "5a4c39af25704407b7b05f729c6dabd8",
            "43c328c0dfd64bbb8833da6a637abbe0",
            "09fd338619d8467dba8bbb458c1da4e2",
            "9b3e103afaa44c299369d0a75dcf58f6",
            "6e3f84bc302848389c1c811e0c9aac9a",
            "72565375265c48c4824c0875cf053bc5",
            "71828e3edf1e45b683b6a84fea2d5878"
          ]
        },
        "id": "WAkN_SMaUxoY",
        "outputId": "054f777f-3986-4dce-8ec0-a32288421b7d"
      },
      "execution_count": 11,
      "outputs": [
        {
          "output_type": "display_data",
          "data": {
            "text/plain": [
              "Generating train split: 0 examples [00:00, ? examples/s]"
            ],
            "application/vnd.jupyter.widget-view+json": {
              "version_major": 2,
              "version_minor": 0,
              "model_id": "9a245bfd7c4a4208a5a00b75bef55d6f"
            }
          },
          "metadata": {}
        },
        {
          "output_type": "stream",
          "name": "stdout",
          "text": [
            "DatasetDict({\n",
            "    train: Dataset({\n",
            "        features: ['content', 'filepath'],\n",
            "        num_rows: 4972\n",
            "    })\n",
            "})\n"
          ]
        }
      ]
    },
    {
      "cell_type": "code",
      "source": [
        "# LOADING BASE TOKENIZER\n",
        "base_tokenizer = AutoTokenizer.from_pretrained(base_model)"
      ],
      "metadata": {
        "id": "sSMHvqd9466r"
      },
      "execution_count": null,
      "outputs": []
    },
    {
      "cell_type": "code",
      "source": [
        "# GET TRAINING CORPUS\n",
        "def get_training_corpus():\n",
        "    train_dataset = tokenizer_dataset[\"train\"]\n",
        "    for ind in range(0, len(train_dataset), batch_size):\n",
        "        samples = train_dataset[ind : ind + batch_size]\n",
        "        yield samples[\"content\"]"
      ],
      "metadata": {
        "id": "e3z2d636VGks"
      },
      "execution_count": 13,
      "outputs": []
    },
    {
      "cell_type": "code",
      "source": [
        "training_corpus = get_training_corpus()\n",
        "tokenizer = base_tokenizer.train_new_from_iterator(training_corpus, vocab_size)\n",
        "print(\"Tokenizer Vocab Size: \", len(tokenizer))"
      ],
      "metadata": {
        "id": "zmI-RfNAWHI1",
        "colab": {
          "base_uri": "https://localhost:8080/"
        },
        "outputId": "727d7710-6a7f-4dc0-b6aa-54864d8ceee4"
      },
      "execution_count": 14,
      "outputs": [
        {
          "output_type": "stream",
          "name": "stdout",
          "text": [
            "Tokenizer Vocab Size:  30000\n"
          ]
        }
      ]
    },
    {
      "cell_type": "code",
      "source": [
        "tokenizer.save_pretrained(tokenizer_output_dir)\n",
        "repo.push_to_hub(\n",
        "    commit_message=f\"vocab_size 30k train dataset\", blocking=False\n",
        ")"
      ],
      "metadata": {
        "id": "tkbWs-ipA3qM"
      },
      "execution_count": null,
      "outputs": []
    }
  ]
}